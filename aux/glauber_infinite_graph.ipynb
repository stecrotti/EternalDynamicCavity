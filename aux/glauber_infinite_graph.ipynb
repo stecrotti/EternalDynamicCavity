{
 "cells": [
  {
   "cell_type": "code",
   "execution_count": null,
   "metadata": {
    "ExecuteTime": {
     "start_time": "2024-07-14T10:00:52.962Z"
    }
   },
   "outputs": [],
   "source": [
    "using MatrixProductBP, MatrixProductBP.Models\n",
    "using Plots\n",
    "import ProgressMeter; ProgressMeter.ijulia_behavior(:clear)\n",
    "using JLD2\n",
    "using LaTeXStrings\n",
    "\n",
    "include(\"../../telegram/notifications.jl\");"
   ]
  },
  {
   "cell_type": "code",
   "execution_count": null,
   "metadata": {
    "ExecuteTime": {
     "start_time": "2024-07-14T10:00:52.966Z"
    }
   },
   "outputs": [],
   "source": [
    "T = 200         # final time\n",
    "k = 3          # degree\n",
    "m⁰ = 0.3       # magnetization at time zero\n",
    "\n",
    "β = 1.0\n",
    "J = 0.6\n",
    "h = 0.0;"
   ]
  },
  {
   "cell_type": "code",
   "execution_count": null,
   "metadata": {
    "ExecuteTime": {
     "start_time": "2024-07-14T10:00:52.968Z"
    }
   },
   "outputs": [],
   "source": [
    "wᵢ = fill(HomogeneousGlauberFactor(J, h, β), T+1)\n",
    "ϕᵢ = [ t == 0 ? [(1+m⁰)/2, (1-m⁰)/2] : ones(2) for t in 0:T]\n",
    "bp = mpbp_infinite_graph(k, wᵢ, 2, ϕᵢ)\n",
    "cb = CB_BP(bp);"
   ]
  },
  {
   "cell_type": "code",
   "execution_count": null,
   "metadata": {
    "ExecuteTime": {
     "start_time": "2024-07-14T10:00:52.970Z"
    }
   },
   "outputs": [],
   "source": [
    "matrix_sizes = [10, 15, 20, 30, 40]\n",
    "maxiters = fill(70, length(matrix_sizes))\n",
    "maxiters = [70, 70, 70, 70, 50]\n",
    "iters = zeros(Int, length(maxiters))\n",
    "tol = 1e-5\n",
    "for i in eachindex(maxiters)\n",
    "    iters[i], _ = iterate!(bp; maxiter=maxiters[i], svd_trunc=TruncBond(matrix_sizes[i]), cb, tol)\n",
    "end"
   ]
  },
  {
   "cell_type": "code",
   "execution_count": null,
   "metadata": {
    "ExecuteTime": {
     "start_time": "2024-07-14T10:00:52.973Z"
    }
   },
   "outputs": [],
   "source": [
    "iters_cum = cumsum(iters)\n",
    "inds = 1:iters_cum[1]\n",
    "pl = plot(inds, cb.Δs[inds], label=\"$(matrix_sizes[1]) matrices\")\n",
    "for i in 2:length(iters)\n",
    "    inds = iters_cum[i-1]:iters_cum[i]\n",
    "   plot!(pl, inds, cb.Δs[inds], label=\"$(matrix_sizes[i]) matrices\")\n",
    "end\n",
    "plot(pl, ylabel=\"convergence error\", xlabel=\"iters\", yaxis=:log10, size=(500,300),\n",
    "    legend=:outertopright)"
   ]
  },
  {
   "cell_type": "code",
   "execution_count": null,
   "metadata": {
    "ExecuteTime": {
     "start_time": "2024-07-14T10:00:52.975Z"
    }
   },
   "outputs": [],
   "source": [
    "spin(x, i) = 3-2x\n",
    "spin(x) = spin(x, 0)\n",
    "m = only(means(spin, bp));"
   ]
  },
  {
   "cell_type": "code",
   "execution_count": null,
   "metadata": {
    "ExecuteTime": {
     "start_time": "2024-07-14T10:00:52.977Z"
    }
   },
   "outputs": [],
   "source": [
    "m_ss, = equilibrium_observables(RandomRegular(k), J; β, h)"
   ]
  },
  {
   "cell_type": "code",
   "execution_count": null,
   "metadata": {
    "ExecuteTime": {
     "start_time": "2024-07-14T10:00:52.980Z"
    }
   },
   "outputs": [],
   "source": [
    "blue = theme_palette(:auto)[1]\n",
    "pl = plot(0:T, map(spin, only(cb.m[end])), m=:o, xlabel=\"time\", ylabel=\"magnetization\", label=\"MPBP\",\n",
    "    size=(500,300), xticks=0:20:T, ms=3, title=\"Glauber infinite $k-regular\", titlefontsize=12,\n",
    "    legend=:bottomright, msc=:auto, c=blue)\n",
    "hline!(pl, [m_ss, -m_ss], ls=:dash, label=\"equilib\")"
   ]
  },
  {
   "cell_type": "code",
   "execution_count": null,
   "metadata": {
    "ExecuteTime": {
     "start_time": "2024-07-14T10:00:52.982Z"
    }
   },
   "outputs": [],
   "source": [
    "@telegram \"glauber infinite\""
   ]
  },
  {
   "cell_type": "markdown",
   "metadata": {},
   "source": [
    "## Monte Carlo"
   ]
  },
  {
   "cell_type": "code",
   "execution_count": null,
   "metadata": {
    "ExecuteTime": {
     "start_time": "2024-07-14T10:00:52.984Z"
    }
   },
   "outputs": [],
   "source": [
    "using Graphs, IndexedGraphs, Statistics\n",
    "\n",
    "N = 10^3\n",
    "g = random_regular_graph(N, k)\n",
    "ising = Ising(IndexedGraph(g); J=fill(J, ne(g)), h=fill(h, N), β)\n",
    "bp_mc = mpbp(Glauber(ising, T); ϕ = fill(ϕᵢ, N))\n",
    "sms = SoftMarginSampler(bp_mc);"
   ]
  },
  {
   "cell_type": "code",
   "execution_count": null,
   "metadata": {
    "ExecuteTime": {
     "start_time": "2024-07-14T10:00:52.986Z"
    }
   },
   "outputs": [],
   "source": [
    "sample!(sms, 10^3)\n",
    "spin(x) = 3-2x\n",
    "m_mc = mean(vec(spin.(mean(X, dims=1))) for X in sms.X);"
   ]
  },
  {
   "cell_type": "code",
   "execution_count": null,
   "metadata": {
    "ExecuteTime": {
     "start_time": "2024-07-14T10:00:52.990Z"
    }
   },
   "outputs": [],
   "source": [
    "scatter!(deepcopy(pl), 0:T, m_mc, m=:diamond, c=:black, size=(500,300), label=\"MonteCarlo\")"
   ]
  },
  {
   "cell_type": "code",
   "execution_count": null,
   "metadata": {
    "ExecuteTime": {
     "start_time": "2024-07-14T10:00:52.992Z"
    }
   },
   "outputs": [],
   "source": [
    "using ColorSchemes\n",
    "cg = cgrad(:matter, length(matrix_sizes)+1, categorical=true)\n",
    "pl_iters = plot(; xlabel=\"t\",ylabel=\"magnetiz\", legend=:outerbottomright, size=(900,400),\n",
    "    title=\"Glauber close to transition (J=$J, h=$h), RRG k=$k\", margin=5Plots.mm)\n",
    "for i in eachindex(matrix_sizes)\n",
    "   plot!(pl_iters, 0:T, map(spin, only(cb.m[iters_cum[i]])), label=\"MPBP bond dim $(matrix_sizes[i])\",\n",
    "        c=cg[i+1]) \n",
    "end\n",
    "hline!(pl_iters, [m_ss], label=\"equilib\", ls=:dash)\n",
    "scatter!(pl_iters, 0:T, m_mc, m=:o, ms=2, c=:black, label=\"MonteCarlo\")"
   ]
  },
  {
   "cell_type": "code",
   "execution_count": null,
   "metadata": {
    "ExecuteTime": {
     "start_time": "2024-07-14T10:00:52.994Z"
    }
   },
   "outputs": [],
   "source": [
    "jldsave(\"../data/glauber_infinite_graph.jld2\"; T, J, h, k, matrix_sizes, cb, iters_cum, m_ss, m_mc);"
   ]
  },
  {
   "cell_type": "markdown",
   "metadata": {},
   "source": [
    "## Larger T"
   ]
  },
  {
   "cell_type": "code",
   "execution_count": null,
   "metadata": {
    "ExecuteTime": {
     "start_time": "2024-07-14T10:00:52.996Z"
    }
   },
   "outputs": [],
   "source": [
    "# T2 = 250         # final time\n",
    "# k = 3          # degree\n",
    "# m⁰ = 0.3       # magnetization at time zero\n",
    "\n",
    "# β = 1.0\n",
    "# J = 0.6\n",
    "# h = 0.0;"
   ]
  },
  {
   "cell_type": "code",
   "execution_count": null,
   "metadata": {
    "ExecuteTime": {
     "start_time": "2024-07-14T10:00:52.997Z"
    }
   },
   "outputs": [],
   "source": [
    "# wᵢ2 = fill(HomogeneousGlauberFactor(J, h, β), T2+1)\n",
    "# ϕᵢ2 = [ t == 0 ? [(1+m⁰)/2, (1-m⁰)/2] : ones(2) for t in 0:T2]\n",
    "# bp2 = mpbp_infinite_graph(k, wᵢ2, 2, ϕᵢ2)\n",
    "# cb2 = CB_BP(bp2);"
   ]
  },
  {
   "cell_type": "code",
   "execution_count": null,
   "metadata": {
    "ExecuteTime": {
     "start_time": "2024-07-14T10:00:52.999Z"
    }
   },
   "outputs": [],
   "source": [
    "# matrix_sizes = [10, 15, 20, 30, 40]\n",
    "# maxiters = fill(70, length(matrix_sizes))\n",
    "# maxiters = [70, 70, 70, 70, 50]\n",
    "# iters2 = zeros(Int, length(maxiters))\n",
    "# tol = 1e-5\n",
    "# for i in eachindex(maxiters)\n",
    "#     iters2[i], _ = iterate!(bp2; maxiter=maxiters[i], svd_trunc=TruncBond(matrix_sizes[i]), cb=cb2, tol)\n",
    "# end"
   ]
  },
  {
   "cell_type": "code",
   "execution_count": null,
   "metadata": {
    "ExecuteTime": {
     "start_time": "2024-07-14T10:00:53.001Z"
    }
   },
   "outputs": [],
   "source": [
    "# iters_cum2 = cumsum(iters2)\n",
    "# inds2 = 1:iters_cum2[1]\n",
    "# pl2 = plot(inds, cb.Δs[inds2], label=\"$(matrix_sizes[1]) matrices\")\n",
    "# for i in 2:length(iters2)\n",
    "#     inds = iters_cum2[i-1]:iters_cum2[i]\n",
    "#    plot!(pl2, inds, cb2.Δs[inds], label=\"$(matrix_sizes[i]) matrices\")\n",
    "# end\n",
    "# plot(pl2, ylabel=\"convergence error\", xlabel=\"iters\", yaxis=:log10, size=(500,300),\n",
    "#     legend=:outertopright)"
   ]
  },
  {
   "cell_type": "code",
   "execution_count": null,
   "metadata": {
    "ExecuteTime": {
     "start_time": "2024-07-14T10:00:53.003Z"
    }
   },
   "outputs": [],
   "source": [
    "# using ColorSchemes\n",
    "# cg = cgrad(:matter, length(matrix_sizes)+1, categorical=true)\n",
    "# pl_iters2 = plot(; xlabel=\"t\",ylabel=\"magnetiz\", legend=:outerbottomright, size=(900,400),\n",
    "#     title=\"Glauber close to transition (J=$J, h=$h), RRG k=$k\", margin=5Plots.mm)\n",
    "# for i in eachindex(matrix_sizes)\n",
    "#    plot!(pl_iters2, 0:T2, map(spin, only(cb2.m[iters_cum2[i]])), label=\"MPBP bond dim $(matrix_sizes[i])\",\n",
    "#         c=cg[i+1]) \n",
    "# end\n",
    "# hline!(pl_iters, [m_ss], label=\"equilib\", ls=:dash)\n",
    "# scatter!(pl_iters, 0:T, m_mc, m=:o, ms=2, c=:black, label=\"MonteCarlo\")"
   ]
  },
  {
   "cell_type": "code",
   "execution_count": null,
   "metadata": {
    "ExecuteTime": {
     "start_time": "2024-07-14T10:00:53.004Z"
    }
   },
   "outputs": [],
   "source": [
    "# @telegram \"glauber infinite\""
   ]
  }
 ],
 "metadata": {
  "kernelspec": {
   "display_name": "Julia 1.10.4",
   "language": "julia",
   "name": "julia-1.10"
  },
  "language_info": {
   "file_extension": ".jl",
   "mimetype": "application/julia",
   "name": "julia",
   "version": "1.10.4"
  },
  "varInspector": {
   "cols": {
    "lenName": 16,
    "lenType": 16,
    "lenVar": 40
   },
   "kernels_config": {
    "python": {
     "delete_cmd_postfix": "",
     "delete_cmd_prefix": "del ",
     "library": "var_list.py",
     "varRefreshCmd": "print(var_dic_list())"
    },
    "r": {
     "delete_cmd_postfix": ") ",
     "delete_cmd_prefix": "rm(",
     "library": "var_list.r",
     "varRefreshCmd": "cat(var_dic_list()) "
    }
   },
   "types_to_exclude": [
    "module",
    "function",
    "builtin_function_or_method",
    "instance",
    "_Feature"
   ],
   "window_display": false
  }
 },
 "nbformat": 4,
 "nbformat_minor": 2
}
